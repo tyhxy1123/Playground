{
 "cells": [
  {
   "cell_type": "code",
   "execution_count": 1,
   "metadata": {},
   "outputs": [],
   "source": [
    "import numpy as np\n",
    "import nltk\n",
    "import tqdm"
   ]
  },
  {
   "cell_type": "code",
   "execution_count": 8,
   "metadata": {},
   "outputs": [
    {
     "name": "stdout",
     "output_type": "stream",
     "text": [
      "[['A', 'B', 'A'], ['S', 'A', 'B'], ['B', 'A', 'C'], ['B', 'B', 'B'], ['D', 'A', 'B']]\n",
      "[['A', 'a'], ['B', 'b'], ['C', 'c']]\n"
     ]
    }
   ],
   "source": [
    "src=[]\n",
    "with open('CFG.txt', 'r') as file1:\n",
    "    for line in file1:\n",
    "        src.append(line)\n",
    "        \n",
    "src = list(map(lambda arr:(list(filter(lambda e:e!=\"->\", arr))),map(lambda line:line.split(), src)))\n",
    "\n",
    "lexicon = list(filter(lambda li:len(li)<3,src))\n",
    "rules = list(filter(lambda li:len(li)==3,src))\n",
    "# rules = dict(map(lambda li:,src))\n",
    "print(rules)\n",
    "print(lexicon)\n"
   ]
  },
  {
   "cell_type": "code",
   "execution_count": 46,
   "metadata": {},
   "outputs": [],
   "source": [
    "# rule consists of ['A', 'B', 'C']\n",
    "def reverseRule(left, right, rules):\n",
    "    return list(map(lambda r:r[0], filter(lambda r:r[0] == left and r[1] == right, rules)))\n",
    "    \n",
    "def reverseLexicon(string, lexicon):\n",
    "    return list(map(lambda l:l[0], filter(lambda l:l[1] == string,lexicon)))\n",
    "\n",
    "def cyk(string, rules, lexicon):\n",
    "    matrix={}\n",
    "    maxI = len(string)\n",
    "    for i in range(maxI):\n",
    "        for j in range(maxI):\n",
    "            matrix[(i,j)] = 0\n",
    "\n",
    "    for i in range(maxI):\n",
    "        matrix[(i,i)] = reverseLexicon(string[i], lexicon)\n",
    "\n",
    "    for i in range(maxI-1):\n",
    "        matrix[(i+1,i)] = reverseRule(matrix[(i,i)],matrix[(i+1,i+1)],rules)\n",
    "        \n",
    "    for l in range(1, maxI):\n",
    "        for x in range(0,maxI-l+1):\n",
    "            for i in range(1, l+1):\n",
    "                print(\"matrix[(0,%d)] = matrix[(%d,%d)],matrix[(%d,%d)]\" % (l,x,i-1,x+i,l-i))\n",
    "                printMatrix(matrix,maxI)\n",
    "                matrix[(0,l)] = reverseRule(matrix[(x,i-1)],matrix[(x+i,l-i)],rules)\n",
    "    return matrix\n",
    "    "
   ]
  },
  {
   "cell_type": "code",
   "execution_count": 47,
   "metadata": {},
   "outputs": [],
   "source": [
    "def printMatrix(matrix, maxI):\n",
    "#     maxI = np.sqrt(len(matrix))\n",
    "    for i in range(maxI):\n",
    "        for j in range(maxI):\n",
    "            print(matrix[(i,j)], end=' ')\n",
    "        print()"
   ]
  },
  {
   "cell_type": "code",
   "execution_count": 48,
   "metadata": {},
   "outputs": [
    {
     "name": "stdout",
     "output_type": "stream",
     "text": [
      "0 0 0 0 0 0 \n",
      "0 0 0 0 0 0 \n",
      "0 0 0 0 0 0 \n",
      "0 0 0 0 0 0 \n",
      "0 0 0 0 0 0 \n",
      "0 0 0 0 0 0 \n"
     ]
    }
   ],
   "source": [
    "matrix={}\n",
    "maxI = len(\"aabbcc\")\n",
    "for i in range(maxI):\n",
    "    for j in range(maxI):\n",
    "        matrix[(i,j)] = 0\n",
    "printMatrix(matrix, 6)"
   ]
  },
  {
   "cell_type": "code",
   "execution_count": 49,
   "metadata": {},
   "outputs": [
    {
     "name": "stdout",
     "output_type": "stream",
     "text": [
      "matrix[(0,1)] = matrix[(0,0)],matrix[(1,0)]\n",
      "['A'] 0 0 0 \n",
      "[] ['B'] 0 0 \n",
      "0 [] ['A'] 0 \n",
      "0 0 [] ['C'] \n",
      "matrix[(0,1)] = matrix[(1,0)],matrix[(2,0)]\n",
      "['A'] [] 0 0 \n",
      "[] ['B'] 0 0 \n",
      "0 [] ['A'] 0 \n",
      "0 0 [] ['C'] \n",
      "matrix[(0,1)] = matrix[(2,0)],matrix[(3,0)]\n",
      "['A'] [] 0 0 \n",
      "[] ['B'] 0 0 \n",
      "0 [] ['A'] 0 \n",
      "0 0 [] ['C'] \n",
      "matrix[(0,1)] = matrix[(3,0)],matrix[(4,0)]\n",
      "['A'] [] 0 0 \n",
      "[] ['B'] 0 0 \n",
      "0 [] ['A'] 0 \n",
      "0 0 [] ['C'] \n"
     ]
    },
    {
     "ename": "KeyError",
     "evalue": "(4, 0)",
     "output_type": "error",
     "traceback": [
      "\u001b[0;31m---------------------------------------------------------------------------\u001b[0m",
      "\u001b[0;31mKeyError\u001b[0m                                  Traceback (most recent call last)",
      "\u001b[0;32m<ipython-input-49-5df642d3e099>\u001b[0m in \u001b[0;36m<module>\u001b[0;34m\u001b[0m\n\u001b[0;32m----> 1\u001b[0;31m \u001b[0mcyk\u001b[0m\u001b[0;34m(\u001b[0m\u001b[0;34m'abac'\u001b[0m\u001b[0;34m,\u001b[0m \u001b[0mrules\u001b[0m\u001b[0;34m,\u001b[0m \u001b[0mlexicon\u001b[0m\u001b[0;34m)\u001b[0m\u001b[0;34m\u001b[0m\u001b[0;34m\u001b[0m\u001b[0m\n\u001b[0m",
      "\u001b[0;32m<ipython-input-46-458aca6cea2d>\u001b[0m in \u001b[0;36mcyk\u001b[0;34m(string, rules, lexicon)\u001b[0m\n\u001b[1;32m     24\u001b[0m                 \u001b[0mprint\u001b[0m\u001b[0;34m(\u001b[0m\u001b[0;34m\"matrix[(0,%d)] = matrix[(%d,%d)],matrix[(%d,%d)]\"\u001b[0m \u001b[0;34m%\u001b[0m \u001b[0;34m(\u001b[0m\u001b[0ml\u001b[0m\u001b[0;34m,\u001b[0m\u001b[0mx\u001b[0m\u001b[0;34m,\u001b[0m\u001b[0mi\u001b[0m\u001b[0;34m-\u001b[0m\u001b[0;36m1\u001b[0m\u001b[0;34m,\u001b[0m\u001b[0mx\u001b[0m\u001b[0;34m+\u001b[0m\u001b[0mi\u001b[0m\u001b[0;34m,\u001b[0m\u001b[0ml\u001b[0m\u001b[0;34m-\u001b[0m\u001b[0mi\u001b[0m\u001b[0;34m)\u001b[0m\u001b[0;34m)\u001b[0m\u001b[0;34m\u001b[0m\u001b[0;34m\u001b[0m\u001b[0m\n\u001b[1;32m     25\u001b[0m                 \u001b[0mprintMatrix\u001b[0m\u001b[0;34m(\u001b[0m\u001b[0mmatrix\u001b[0m\u001b[0;34m,\u001b[0m\u001b[0mmaxI\u001b[0m\u001b[0;34m)\u001b[0m\u001b[0;34m\u001b[0m\u001b[0;34m\u001b[0m\u001b[0m\n\u001b[0;32m---> 26\u001b[0;31m                 \u001b[0mmatrix\u001b[0m\u001b[0;34m[\u001b[0m\u001b[0;34m(\u001b[0m\u001b[0;36m0\u001b[0m\u001b[0;34m,\u001b[0m\u001b[0ml\u001b[0m\u001b[0;34m)\u001b[0m\u001b[0;34m]\u001b[0m \u001b[0;34m=\u001b[0m \u001b[0mreverseRule\u001b[0m\u001b[0;34m(\u001b[0m\u001b[0mmatrix\u001b[0m\u001b[0;34m[\u001b[0m\u001b[0;34m(\u001b[0m\u001b[0mx\u001b[0m\u001b[0;34m,\u001b[0m\u001b[0mi\u001b[0m\u001b[0;34m-\u001b[0m\u001b[0;36m1\u001b[0m\u001b[0;34m)\u001b[0m\u001b[0;34m]\u001b[0m\u001b[0;34m,\u001b[0m\u001b[0mmatrix\u001b[0m\u001b[0;34m[\u001b[0m\u001b[0;34m(\u001b[0m\u001b[0mx\u001b[0m\u001b[0;34m+\u001b[0m\u001b[0mi\u001b[0m\u001b[0;34m,\u001b[0m\u001b[0ml\u001b[0m\u001b[0;34m-\u001b[0m\u001b[0mi\u001b[0m\u001b[0;34m)\u001b[0m\u001b[0;34m]\u001b[0m\u001b[0;34m,\u001b[0m\u001b[0mrules\u001b[0m\u001b[0;34m)\u001b[0m\u001b[0;34m\u001b[0m\u001b[0;34m\u001b[0m\u001b[0m\n\u001b[0m\u001b[1;32m     27\u001b[0m     \u001b[0;32mreturn\u001b[0m \u001b[0mmatrix\u001b[0m\u001b[0;34m\u001b[0m\u001b[0;34m\u001b[0m\u001b[0m\n\u001b[1;32m     28\u001b[0m \u001b[0;34m\u001b[0m\u001b[0m\n",
      "\u001b[0;31mKeyError\u001b[0m: (4, 0)"
     ]
    }
   ],
   "source": [
    "cyk('abac', rules, lexicon)"
   ]
  },
  {
   "cell_type": "code",
   "execution_count": null,
   "metadata": {},
   "outputs": [],
   "source": []
  }
 ],
 "metadata": {
  "kernelspec": {
   "display_name": "Python 3",
   "language": "python",
   "name": "python3"
  },
  "language_info": {
   "codemirror_mode": {
    "name": "ipython",
    "version": 3
   },
   "file_extension": ".py",
   "mimetype": "text/x-python",
   "name": "python",
   "nbconvert_exporter": "python",
   "pygments_lexer": "ipython3",
   "version": "3.7.4"
  }
 },
 "nbformat": 4,
 "nbformat_minor": 4
}
